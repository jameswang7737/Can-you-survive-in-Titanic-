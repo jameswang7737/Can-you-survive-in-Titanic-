{
 "cells": [
  {
   "cell_type": "markdown",
   "id": "d6575292",
   "metadata": {},
   "source": [
    "# Step 1 Data mining"
   ]
  },
  {
   "cell_type": "code",
   "execution_count": 1,
   "id": "2ca0e551",
   "metadata": {},
   "outputs": [],
   "source": [
    "%matplotlib inline\n",
    "import numpy as np\n",
    "import pandas as pd\n",
    "import matplotlib.pyplot as plt\n",
    "import seaborn as sns"
   ]
  },
  {
   "cell_type": "code",
   "execution_count": 2,
   "id": "383cebee",
   "metadata": {},
   "outputs": [],
   "source": [
    "df=pd.read_csv('train.csv')"
   ]
  },
  {
   "cell_type": "code",
   "execution_count": 3,
   "id": "77ddb6dc",
   "metadata": {},
   "outputs": [
    {
     "data": {
      "text/html": [
       "<div>\n",
       "<style scoped>\n",
       "    .dataframe tbody tr th:only-of-type {\n",
       "        vertical-align: middle;\n",
       "    }\n",
       "\n",
       "    .dataframe tbody tr th {\n",
       "        vertical-align: top;\n",
       "    }\n",
       "\n",
       "    .dataframe thead th {\n",
       "        text-align: right;\n",
       "    }\n",
       "</style>\n",
       "<table border=\"1\" class=\"dataframe\">\n",
       "  <thead>\n",
       "    <tr style=\"text-align: right;\">\n",
       "      <th></th>\n",
       "      <th>PassengerId</th>\n",
       "      <th>Survived</th>\n",
       "      <th>Pclass</th>\n",
       "      <th>Name</th>\n",
       "      <th>Sex</th>\n",
       "      <th>Age</th>\n",
       "      <th>SibSp</th>\n",
       "      <th>Parch</th>\n",
       "      <th>Ticket</th>\n",
       "      <th>Fare</th>\n",
       "      <th>Cabin</th>\n",
       "      <th>Embarked</th>\n",
       "    </tr>\n",
       "  </thead>\n",
       "  <tbody>\n",
       "    <tr>\n",
       "      <th>0</th>\n",
       "      <td>1</td>\n",
       "      <td>0</td>\n",
       "      <td>3</td>\n",
       "      <td>Braund, Mr. Owen Harris</td>\n",
       "      <td>male</td>\n",
       "      <td>22.0</td>\n",
       "      <td>1</td>\n",
       "      <td>0</td>\n",
       "      <td>A/5 21171</td>\n",
       "      <td>7.2500</td>\n",
       "      <td>NaN</td>\n",
       "      <td>S</td>\n",
       "    </tr>\n",
       "    <tr>\n",
       "      <th>1</th>\n",
       "      <td>2</td>\n",
       "      <td>1</td>\n",
       "      <td>1</td>\n",
       "      <td>Cumings, Mrs. John Bradley (Florence Briggs Th...</td>\n",
       "      <td>female</td>\n",
       "      <td>38.0</td>\n",
       "      <td>1</td>\n",
       "      <td>0</td>\n",
       "      <td>PC 17599</td>\n",
       "      <td>71.2833</td>\n",
       "      <td>C85</td>\n",
       "      <td>C</td>\n",
       "    </tr>\n",
       "    <tr>\n",
       "      <th>2</th>\n",
       "      <td>3</td>\n",
       "      <td>1</td>\n",
       "      <td>3</td>\n",
       "      <td>Heikkinen, Miss. Laina</td>\n",
       "      <td>female</td>\n",
       "      <td>26.0</td>\n",
       "      <td>0</td>\n",
       "      <td>0</td>\n",
       "      <td>STON/O2. 3101282</td>\n",
       "      <td>7.9250</td>\n",
       "      <td>NaN</td>\n",
       "      <td>S</td>\n",
       "    </tr>\n",
       "    <tr>\n",
       "      <th>3</th>\n",
       "      <td>4</td>\n",
       "      <td>1</td>\n",
       "      <td>1</td>\n",
       "      <td>Futrelle, Mrs. Jacques Heath (Lily May Peel)</td>\n",
       "      <td>female</td>\n",
       "      <td>35.0</td>\n",
       "      <td>1</td>\n",
       "      <td>0</td>\n",
       "      <td>113803</td>\n",
       "      <td>53.1000</td>\n",
       "      <td>C123</td>\n",
       "      <td>S</td>\n",
       "    </tr>\n",
       "    <tr>\n",
       "      <th>4</th>\n",
       "      <td>5</td>\n",
       "      <td>0</td>\n",
       "      <td>3</td>\n",
       "      <td>Allen, Mr. William Henry</td>\n",
       "      <td>male</td>\n",
       "      <td>35.0</td>\n",
       "      <td>0</td>\n",
       "      <td>0</td>\n",
       "      <td>373450</td>\n",
       "      <td>8.0500</td>\n",
       "      <td>NaN</td>\n",
       "      <td>S</td>\n",
       "    </tr>\n",
       "  </tbody>\n",
       "</table>\n",
       "</div>"
      ],
      "text/plain": [
       "   PassengerId  Survived  Pclass  \\\n",
       "0            1         0       3   \n",
       "1            2         1       1   \n",
       "2            3         1       3   \n",
       "3            4         1       1   \n",
       "4            5         0       3   \n",
       "\n",
       "                                                Name     Sex   Age  SibSp  \\\n",
       "0                            Braund, Mr. Owen Harris    male  22.0      1   \n",
       "1  Cumings, Mrs. John Bradley (Florence Briggs Th...  female  38.0      1   \n",
       "2                             Heikkinen, Miss. Laina  female  26.0      0   \n",
       "3       Futrelle, Mrs. Jacques Heath (Lily May Peel)  female  35.0      1   \n",
       "4                           Allen, Mr. William Henry    male  35.0      0   \n",
       "\n",
       "   Parch            Ticket     Fare Cabin Embarked  \n",
       "0      0         A/5 21171   7.2500   NaN        S  \n",
       "1      0          PC 17599  71.2833   C85        C  \n",
       "2      0  STON/O2. 3101282   7.9250   NaN        S  \n",
       "3      0            113803  53.1000  C123        S  \n",
       "4      0            373450   8.0500   NaN        S  "
      ]
     },
     "execution_count": 3,
     "metadata": {},
     "output_type": "execute_result"
    }
   ],
   "source": [
    "df.head()"
   ]
  },
  {
   "cell_type": "code",
   "execution_count": 4,
   "id": "909b472a",
   "metadata": {},
   "outputs": [
    {
     "name": "stdout",
     "output_type": "stream",
     "text": [
      "<class 'pandas.core.frame.DataFrame'>\n",
      "RangeIndex: 891 entries, 0 to 890\n",
      "Data columns (total 12 columns):\n",
      " #   Column       Non-Null Count  Dtype  \n",
      "---  ------       --------------  -----  \n",
      " 0   PassengerId  891 non-null    int64  \n",
      " 1   Survived     891 non-null    int64  \n",
      " 2   Pclass       891 non-null    int64  \n",
      " 3   Name         891 non-null    object \n",
      " 4   Sex          891 non-null    object \n",
      " 5   Age          714 non-null    float64\n",
      " 6   SibSp        891 non-null    int64  \n",
      " 7   Parch        891 non-null    int64  \n",
      " 8   Ticket       891 non-null    object \n",
      " 9   Fare         891 non-null    float64\n",
      " 10  Cabin        204 non-null    object \n",
      " 11  Embarked     889 non-null    object \n",
      "dtypes: float64(2), int64(5), object(5)\n",
      "memory usage: 83.7+ KB\n"
     ]
    }
   ],
   "source": [
    "df.info()"
   ]
  },
  {
   "cell_type": "code",
   "execution_count": 5,
   "id": "cc0a192c",
   "metadata": {},
   "outputs": [
    {
     "data": {
      "text/plain": [
       "(891, 12)"
      ]
     },
     "execution_count": 5,
     "metadata": {},
     "output_type": "execute_result"
    }
   ],
   "source": [
    "df.shape"
   ]
  },
  {
   "cell_type": "code",
   "execution_count": 6,
   "id": "811772d7",
   "metadata": {},
   "outputs": [],
   "source": [
    "# drop useless column and the column missing many data\n",
    "df=df.drop(columns=['PassengerId','Name','Cabin','Ticket'])"
   ]
  },
  {
   "cell_type": "code",
   "execution_count": 7,
   "id": "b8eb4d45",
   "metadata": {},
   "outputs": [],
   "source": [
    "#combine sibling number with parents number to famiy number\n",
    "df['family']=df['SibSp']+df['Parch']"
   ]
  },
  {
   "cell_type": "code",
   "execution_count": 8,
   "id": "b82d3d50",
   "metadata": {},
   "outputs": [],
   "source": [
    "df=df.drop(columns=['SibSp','Parch'])"
   ]
  },
  {
   "cell_type": "code",
   "execution_count": 9,
   "id": "5e4d7734",
   "metadata": {},
   "outputs": [],
   "source": [
    "df['is_alone']=df['family'].apply(lambda x:1 if x==0 else 0)"
   ]
  },
  {
   "cell_type": "code",
   "execution_count": 10,
   "id": "34202407",
   "metadata": {},
   "outputs": [],
   "source": [
    "# trun sex to dummy variable\n",
    "df['is_female']= df['Sex'].apply(lambda x:1 if x =='female' else 0 )"
   ]
  },
  {
   "cell_type": "code",
   "execution_count": 11,
   "id": "98e499a0",
   "metadata": {},
   "outputs": [],
   "source": [
    "df=df.drop(columns=['Sex'])"
   ]
  },
  {
   "cell_type": "code",
   "execution_count": 12,
   "id": "ba081ce0",
   "metadata": {},
   "outputs": [
    {
     "name": "stderr",
     "output_type": "stream",
     "text": [
      "/Users/jameswang/opt/anaconda3/lib/python3.8/site-packages/seaborn/distributions.py:2557: FutureWarning: `distplot` is a deprecated function and will be removed in a future version. Please adapt your code to use either `displot` (a figure-level function with similar flexibility) or `histplot` (an axes-level function for histograms).\n",
      "  warnings.warn(msg, FutureWarning)\n"
     ]
    },
    {
     "data": {
      "text/plain": [
       "<AxesSubplot:xlabel='Age', ylabel='Density'>"
      ]
     },
     "execution_count": 12,
     "metadata": {},
     "output_type": "execute_result"
    },
    {
     "data": {
      "image/png": "[encoded data removed]",
      "text/plain": [
       "<Figure size 432x288 with 1 Axes>"
      ]
     },
     "metadata": {
      "needs_background": "light"
     },
     "output_type": "display_data"
    }
   ],
   "source": [
    "# check the distribute of age\n",
    "sns.distplot(df[df['Age'].notnull()]['Age'])"
   ]
  },
  {
   "cell_type": "code",
   "execution_count": 13,
   "id": "ba844052",
   "metadata": {},
   "outputs": [],
   "source": [
    "df['Age']=df['Age'].interpolate()"
   ]
  },
  {
   "cell_type": "code",
   "execution_count": 14,
   "id": "640b891b",
   "metadata": {},
   "outputs": [],
   "source": [
    "df['is_child']=df['Age'].apply(lambda x:1 if x<18 else 0)"
   ]
  },
  {
   "cell_type": "code",
   "execution_count": 15,
   "id": "7b82e040",
   "metadata": {},
   "outputs": [
    {
     "data": {
      "text/plain": [
       "S    644\n",
       "C    168\n",
       "Q     77\n",
       "Name: Embarked, dtype: int64"
      ]
     },
     "execution_count": 15,
     "metadata": {},
     "output_type": "execute_result"
    }
   ],
   "source": [
    "#fill the Embarked\n",
    "df['Embarked'].value_counts()"
   ]
  },
  {
   "cell_type": "code",
   "execution_count": 16,
   "id": "3501ed09",
   "metadata": {},
   "outputs": [],
   "source": [
    "df['Embarked']=df['Embarked'].fillna('S')"
   ]
  },
  {
   "cell_type": "code",
   "execution_count": 17,
   "id": "8329fc6a",
   "metadata": {},
   "outputs": [],
   "source": [
    "df=pd.get_dummies(df,prefix='is')"
   ]
  },
  {
   "cell_type": "code",
   "execution_count": 18,
   "id": "f74b0cad",
   "metadata": {},
   "outputs": [
    {
     "data": {
      "text/html": [
       "<div>\n",
       "<style scoped>\n",
       "    .dataframe tbody tr th:only-of-type {\n",
       "        vertical-align: middle;\n",
       "    }\n",
       "\n",
       "    .dataframe tbody tr th {\n",
       "        vertical-align: top;\n",
       "    }\n",
       "\n",
       "    .dataframe thead th {\n",
       "        text-align: right;\n",
       "    }\n",
       "</style>\n",
       "<table border=\"1\" class=\"dataframe\">\n",
       "  <thead>\n",
       "    <tr style=\"text-align: right;\">\n",
       "      <th></th>\n",
       "      <th>Survived</th>\n",
       "      <th>Pclass</th>\n",
       "      <th>Age</th>\n",
       "      <th>Fare</th>\n",
       "      <th>family</th>\n",
       "      <th>is_alone</th>\n",
       "      <th>is_female</th>\n",
       "      <th>is_child</th>\n",
       "      <th>is_C</th>\n",
       "      <th>is_Q</th>\n",
       "      <th>is_S</th>\n",
       "    </tr>\n",
       "  </thead>\n",
       "  <tbody>\n",
       "    <tr>\n",
       "      <th>0</th>\n",
       "      <td>0</td>\n",
       "      <td>3</td>\n",
       "      <td>22.0</td>\n",
       "      <td>7.2500</td>\n",
       "      <td>1</td>\n",
       "      <td>0</td>\n",
       "      <td>0</td>\n",
       "      <td>0</td>\n",
       "      <td>0</td>\n",
       "      <td>0</td>\n",
       "      <td>1</td>\n",
       "    </tr>\n",
       "    <tr>\n",
       "      <th>1</th>\n",
       "      <td>1</td>\n",
       "      <td>1</td>\n",
       "      <td>38.0</td>\n",
       "      <td>71.2833</td>\n",
       "      <td>1</td>\n",
       "      <td>0</td>\n",
       "      <td>1</td>\n",
       "      <td>0</td>\n",
       "      <td>1</td>\n",
       "      <td>0</td>\n",
       "      <td>0</td>\n",
       "    </tr>\n",
       "    <tr>\n",
       "      <th>2</th>\n",
       "      <td>1</td>\n",
       "      <td>3</td>\n",
       "      <td>26.0</td>\n",
       "      <td>7.9250</td>\n",
       "      <td>0</td>\n",
       "      <td>1</td>\n",
       "      <td>1</td>\n",
       "      <td>0</td>\n",
       "      <td>0</td>\n",
       "      <td>0</td>\n",
       "      <td>1</td>\n",
       "    </tr>\n",
       "    <tr>\n",
       "      <th>3</th>\n",
       "      <td>1</td>\n",
       "      <td>1</td>\n",
       "      <td>35.0</td>\n",
       "      <td>53.1000</td>\n",
       "      <td>1</td>\n",
       "      <td>0</td>\n",
       "      <td>1</td>\n",
       "      <td>0</td>\n",
       "      <td>0</td>\n",
       "      <td>0</td>\n",
       "      <td>1</td>\n",
       "    </tr>\n",
       "    <tr>\n",
       "      <th>4</th>\n",
       "      <td>0</td>\n",
       "      <td>3</td>\n",
       "      <td>35.0</td>\n",
       "      <td>8.0500</td>\n",
       "      <td>0</td>\n",
       "      <td>1</td>\n",
       "      <td>0</td>\n",
       "      <td>0</td>\n",
       "      <td>0</td>\n",
       "      <td>0</td>\n",
       "      <td>1</td>\n",
       "    </tr>\n",
       "  </tbody>\n",
       "</table>\n",
       "</div>"
      ],
      "text/plain": [
       "   Survived  Pclass   Age     Fare  family  is_alone  is_female  is_child  \\\n",
       "0         0       3  22.0   7.2500       1         0          0         0   \n",
       "1         1       1  38.0  71.2833       1         0          1         0   \n",
       "2         1       3  26.0   7.9250       0         1          1         0   \n",
       "3         1       1  35.0  53.1000       1         0          1         0   \n",
       "4         0       3  35.0   8.0500       0         1          0         0   \n",
       "\n",
       "   is_C  is_Q  is_S  \n",
       "0     0     0     1  \n",
       "1     1     0     0  \n",
       "2     0     0     1  \n",
       "3     0     0     1  \n",
       "4     0     0     1  "
      ]
     },
     "execution_count": 18,
     "metadata": {},
     "output_type": "execute_result"
    }
   ],
   "source": [
    "df.head()"
   ]
  },
  {
   "cell_type": "code",
   "execution_count": 19,
   "id": "51b5ca46",
   "metadata": {},
   "outputs": [
    {
     "name": "stdout",
     "output_type": "stream",
     "text": [
      "<class 'pandas.core.frame.DataFrame'>\n",
      "RangeIndex: 891 entries, 0 to 890\n",
      "Data columns (total 11 columns):\n",
      " #   Column     Non-Null Count  Dtype  \n",
      "---  ------     --------------  -----  \n",
      " 0   Survived   891 non-null    int64  \n",
      " 1   Pclass     891 non-null    int64  \n",
      " 2   Age        891 non-null    float64\n",
      " 3   Fare       891 non-null    float64\n",
      " 4   family     891 non-null    int64  \n",
      " 5   is_alone   891 non-null    int64  \n",
      " 6   is_female  891 non-null    int64  \n",
      " 7   is_child   891 non-null    int64  \n",
      " 8   is_C       891 non-null    uint8  \n",
      " 9   is_Q       891 non-null    uint8  \n",
      " 10  is_S       891 non-null    uint8  \n",
      "dtypes: float64(2), int64(6), uint8(3)\n",
      "memory usage: 58.4 KB\n"
     ]
    }
   ],
   "source": [
    "df.info()"
   ]
  },
  {
   "cell_type": "code",
   "execution_count": 20,
   "id": "b653b8fa",
   "metadata": {},
   "outputs": [],
   "source": [
    "x , y = df.drop(columns=['Survived']), df['Survived']"
   ]
  },
  {
   "cell_type": "markdown",
   "id": "d11fae5b",
   "metadata": {},
   "source": [
    "# Step 2 Build model"
   ]
  },
  {
   "cell_type": "code",
   "execution_count": 29,
   "id": "7a15919d",
   "metadata": {},
   "outputs": [],
   "source": [
    "from sklearn.linear_model import LogisticRegression\n",
    "from sklearn.svm import SVC, LinearSVC\n",
    "from sklearn.tree import DecisionTreeClassifier\n",
    "from sklearn.ensemble import RandomForestClassifier\n",
    "from sklearn.model_selection import train_test_split\n",
    "from sklearn.metrics import confusion_matrix"
   ]
  },
  {
   "cell_type": "code",
   "execution_count": 23,
   "id": "2ee65204",
   "metadata": {},
   "outputs": [],
   "source": [
    "train_x, test_x, train_y, test_y = train_test_split(x,y,train_size=0.8,\n",
    "                                                    test_size=0.2,random_state=20)"
   ]
  },
  {
   "cell_type": "markdown",
   "id": "4f75de75",
   "metadata": {},
   "source": [
    "## Logistic Regression"
   ]
  },
  {
   "cell_type": "code",
   "execution_count": 82,
   "id": "76190f11",
   "metadata": {},
   "outputs": [
    {
     "name": "stdout",
     "output_type": "stream",
     "text": [
      "83.24percent\n"
     ]
    },
    {
     "name": "stderr",
     "output_type": "stream",
     "text": [
      "/Users/jameswang/opt/anaconda3/lib/python3.8/site-packages/sklearn/linear_model/_logistic.py:763: ConvergenceWarning: lbfgs failed to converge (status=1):\n",
      "STOP: TOTAL NO. of ITERATIONS REACHED LIMIT.\n",
      "\n",
      "Increase the number of iterations (max_iter) or scale the data as shown in:\n",
      "    https://scikit-learn.org/stable/modules/preprocessing.html\n",
      "Please also refer to the documentation for alternative solver options:\n",
      "    https://scikit-learn.org/stable/modules/linear_model.html#logistic-regression\n",
      "  n_iter_i = _check_optimize_result(\n"
     ]
    }
   ],
   "source": [
    "model_LR = LogisticRegression()\n",
    "model_LR.fit(train_x,train_y)\n",
    "pred_y=model_LR.predict(test_x)\n",
    "acc_log_reg=round(model_LR.score(test_x,test_y)*100,2)\n",
    "print(str(acc_log_reg)+'percent')"
   ]
  },
  {
   "cell_type": "code",
   "execution_count": 53,
   "id": "57e2b88c",
   "metadata": {},
   "outputs": [
    {
     "data": {
      "text/plain": [
       "array([[ 47,  20],\n",
       "       [ 10, 102]])"
      ]
     },
     "execution_count": 53,
     "metadata": {},
     "output_type": "execute_result"
    }
   ],
   "source": [
    "confusion_matrix(test_y, pred_y, labels=[1, 0])\n"
   ]
  },
  {
   "cell_type": "code",
   "execution_count": 41,
   "id": "2542a6d6",
   "metadata": {},
   "outputs": [
    {
     "name": "stdout",
     "output_type": "stream",
     "text": [
      "Correct rate is 0.8324022346368715percent\n"
     ]
    }
   ],
   "source": [
    "a=str((102+47)/(102+10+20+47))\n",
    "print('Correct rate is '+ a +'percent')"
   ]
  },
  {
   "cell_type": "markdown",
   "id": "43b08b22",
   "metadata": {},
   "source": [
    "## Decision Tree"
   ]
  },
  {
   "cell_type": "code",
   "execution_count": 75,
   "id": "28746fc0",
   "metadata": {},
   "outputs": [
    {
     "name": "stdout",
     "output_type": "stream",
     "text": [
      "81.56percent\n"
     ]
    }
   ],
   "source": [
    "model_tree =DecisionTreeClassifier(max_depth=3, random_state=20)\n",
    "model_tree.fit(train_x,train_y)\n",
    "pred_y=model_tree.predict(test_x)\n",
    "acc_log_reg=round(model_tree.score(test_x,test_y)*100,2)\n",
    "print(str(acc_log_reg)+'percent')"
   ]
  },
  {
   "cell_type": "code",
   "execution_count": 76,
   "id": "4738d19e",
   "metadata": {},
   "outputs": [
    {
     "data": {
      "text/plain": [
       "array([[ 38,  29],\n",
       "       [  4, 108]])"
      ]
     },
     "execution_count": 76,
     "metadata": {},
     "output_type": "execute_result"
    }
   ],
   "source": [
    "confusion_matrix(test_y, pred_y, labels=[1, 0])"
   ]
  },
  {
   "cell_type": "code",
   "execution_count": 77,
   "id": "5dd96446",
   "metadata": {},
   "outputs": [
    {
     "name": "stdout",
     "output_type": "stream",
     "text": [
      "Correct rate is 0.8156424581005587percent\n"
     ]
    }
   ],
   "source": [
    "a=str((38+108)/(38+29+4+108))\n",
    "print('Correct rate is '+ a +'percent')"
   ]
  },
  {
   "cell_type": "markdown",
   "id": "bfa4c209",
   "metadata": {},
   "source": [
    "## SVC"
   ]
  },
  {
   "cell_type": "code",
   "execution_count": 58,
   "id": "106b9f71",
   "metadata": {},
   "outputs": [
    {
     "name": "stdout",
     "output_type": "stream",
     "text": [
      "68.16percent\n"
     ]
    }
   ],
   "source": [
    "model_svc = SVC()\n",
    "model_svc.fit(train_x,train_y)\n",
    "pred_y=model_svc.predict(test_x)\n",
    "acc_log_reg=round(model_svc.score(test_x,test_y)*100,2)\n",
    "print(str(acc_log_reg)+'percent')"
   ]
  },
  {
   "cell_type": "code",
   "execution_count": 59,
   "id": "2db3a60c",
   "metadata": {},
   "outputs": [
    {
     "data": {
      "text/plain": [
       "array([[ 22,  45],\n",
       "       [ 12, 100]])"
      ]
     },
     "execution_count": 59,
     "metadata": {},
     "output_type": "execute_result"
    }
   ],
   "source": [
    "confusion_matrix(test_y, pred_y, labels=[1, 0])"
   ]
  },
  {
   "cell_type": "code",
   "execution_count": 60,
   "id": "1ac4edcc",
   "metadata": {},
   "outputs": [
    {
     "name": "stdout",
     "output_type": "stream",
     "text": [
      "Correct rate is 0.6815642458100558percent\n"
     ]
    }
   ],
   "source": [
    "a=str((22+100)/(22+45+12+100))\n",
    "print('Correct rate is '+ a +'percent')"
   ]
  },
  {
   "cell_type": "markdown",
   "id": "883533ac",
   "metadata": {},
   "source": [
    "## Random Forest"
   ]
  },
  {
   "cell_type": "code",
   "execution_count": 83,
   "id": "cfd29f70",
   "metadata": {},
   "outputs": [
    {
     "name": "stdout",
     "output_type": "stream",
     "text": [
      "83.24percent\n"
     ]
    }
   ],
   "source": [
    "model_RF = RandomForestClassifier(max_depth=3, random_state=20)\n",
    "model_RF.fit( train_x, train_y)\n",
    "pred_y=model_RF.predict(test_x)\n",
    "acc_log_reg=round(model_RF.score(test_x,test_y)*100,2)\n",
    "print(str(acc_log_reg)+'percent')"
   ]
  },
  {
   "cell_type": "code",
   "execution_count": 80,
   "id": "8705bbdb",
   "metadata": {},
   "outputs": [
    {
     "data": {
      "text/plain": [
       "array([[ 40,  27],\n",
       "       [  3, 109]])"
      ]
     },
     "execution_count": 80,
     "metadata": {},
     "output_type": "execute_result"
    }
   ],
   "source": [
    "confusion_matrix(test_y, pred_y, labels=[1, 0])"
   ]
  },
  {
   "cell_type": "code",
   "execution_count": 81,
   "id": "6b97ae95",
   "metadata": {},
   "outputs": [
    {
     "name": "stdout",
     "output_type": "stream",
     "text": [
      "Correct rate is 0.8324022346368715percent\n"
     ]
    }
   ],
   "source": [
    "a=str((40+109)/(40+27+3+109))\n",
    "print('Correct rate is '+ a +'percent')"
   ]
  },
  {
   "cell_type": "code",
   "execution_count": null,
   "id": "2f6a72a3",
   "metadata": {},
   "outputs": [],
   "source": [
    "# I have trained 4 model to make the classification. There are Logistic Regression,\n",
    "# Descision tree, SVC, and Random Forest. At first, I think the Random Forest will have the\n",
    "# best correct rate. However, Logistic Regression has the same correct rate as the random\n",
    "# forest model. As a result, I will use both model to run the Hold_out testing to find out\n",
    "# which model is the best."
   ]
  },
  {
   "cell_type": "markdown",
   "id": "8a7a685f",
   "metadata": {},
   "source": [
    "# Step 3 Run the hand_out testing"
   ]
  },
  {
   "cell_type": "code",
   "execution_count": 114,
   "id": "7fe2f8df",
   "metadata": {},
   "outputs": [],
   "source": [
    "df1=pd.read_csv('holdout_test.csv')"
   ]
  },
  {
   "cell_type": "code",
   "execution_count": 115,
   "id": "ceb95649",
   "metadata": {},
   "outputs": [
    {
     "name": "stdout",
     "output_type": "stream",
     "text": [
      "<class 'pandas.core.frame.DataFrame'>\n",
      "RangeIndex: 418 entries, 0 to 417\n",
      "Data columns (total 12 columns):\n",
      " #   Column       Non-Null Count  Dtype  \n",
      "---  ------       --------------  -----  \n",
      " 0   Survived     0 non-null      float64\n",
      " 1   PassengerId  418 non-null    int64  \n",
      " 2   Pclass       418 non-null    int64  \n",
      " 3   Name         418 non-null    object \n",
      " 4   Sex          418 non-null    object \n",
      " 5   Age          332 non-null    float64\n",
      " 6   SibSp        418 non-null    int64  \n",
      " 7   Parch        418 non-null    int64  \n",
      " 8   Ticket       418 non-null    object \n",
      " 9   Fare         417 non-null    float64\n",
      " 10  Cabin        91 non-null     object \n",
      " 11  Embarked     418 non-null    object \n",
      "dtypes: float64(3), int64(4), object(5)\n",
      "memory usage: 39.3+ KB\n"
     ]
    }
   ],
   "source": [
    "df1.info()"
   ]
  },
  {
   "cell_type": "code",
   "execution_count": 120,
   "id": "b91399f2",
   "metadata": {},
   "outputs": [],
   "source": [
    "df1=df1.drop(columns=['PassengerId','Name','Cabin','Ticket'])\n",
    "df1['family']=df1['SibSp']+df1['Parch']\n",
    "df1=df1.drop(columns=['SibSp','Parch'])\n",
    "df1['is_alone']=df1['family'].apply(lambda x:1 if x==0 else 0)\n",
    "df1['is_female']= df1['Sex'].apply(lambda x:1 if x =='female' else 0 )\n",
    "df1=df1.drop(columns=['Sex'])\n",
    "df1['Age']=df1['Age'].interpolate()\n",
    "df1['is_child']=df1['Age'].apply(lambda x:1 if x<18 else 0)\n",
    "df1['Fare']=df1['Fare'].fillna(mean(df1[df1['Fare'].notnull()]['Fare']))\n",
    "df1=df1.drop(columns=['Survived'])\n",
    "df1=pd.get_dummies(df1,prefix='is')"
   ]
  },
  {
   "cell_type": "code",
   "execution_count": 121,
   "id": "5dd0c2db",
   "metadata": {},
   "outputs": [
    {
     "name": "stdout",
     "output_type": "stream",
     "text": [
      "<class 'pandas.core.frame.DataFrame'>\n",
      "RangeIndex: 418 entries, 0 to 417\n",
      "Data columns (total 10 columns):\n",
      " #   Column     Non-Null Count  Dtype  \n",
      "---  ------     --------------  -----  \n",
      " 0   Pclass     418 non-null    int64  \n",
      " 1   Age        418 non-null    float64\n",
      " 2   Fare       418 non-null    float64\n",
      " 3   family     418 non-null    int64  \n",
      " 4   is_alone   418 non-null    int64  \n",
      " 5   is_female  418 non-null    int64  \n",
      " 6   is_child   418 non-null    int64  \n",
      " 7   is_C       418 non-null    uint8  \n",
      " 8   is_Q       418 non-null    uint8  \n",
      " 9   is_S       418 non-null    uint8  \n",
      "dtypes: float64(2), int64(5), uint8(3)\n",
      "memory usage: 24.2 KB\n"
     ]
    }
   ],
   "source": [
    "df1.info()"
   ]
  },
  {
   "cell_type": "code",
   "execution_count": 122,
   "id": "f82f5b06",
   "metadata": {},
   "outputs": [],
   "source": [
    "model_tree =DecisionTreeClassifier(max_depth=3, random_state=20)\n",
    "model_tree.fit(train_x,train_y)\n",
    "pred_df=model_tree.predict(df1)"
   ]
  },
  {
   "cell_type": "code",
   "execution_count": 125,
   "id": "bc38d76b",
   "metadata": {},
   "outputs": [],
   "source": [
    "df_help=pd.read_csv('holdout_test.csv')\n",
    "pred_result=pd.DataFrame({\n",
    "    'PassengerId':df_help['PassengerId'],\n",
    "    'Survived':pred_df\n",
    "})"
   ]
  },
  {
   "cell_type": "code",
   "execution_count": 128,
   "id": "fd36c475",
   "metadata": {},
   "outputs": [],
   "source": [
    "pred_result.to_csv('Titanic_result_ccwang4.csv',index=False)"
   ]
  },
  {
   "cell_type": "code",
   "execution_count": null,
   "id": "64f49074",
   "metadata": {},
   "outputs": [],
   "source": []
  }
 ],
 "metadata": {
  "kernelspec": {
   "display_name": "Python 3",
   "language": "python",
   "name": "python3"
  },
  "language_info": {
   "codemirror_mode": {
    "name": "ipython",
    "version": 3
   },
   "file_extension": ".py",
   "mimetype": "text/x-python",
   "name": "python",
   "nbconvert_exporter": "python",
   "pygments_lexer": "ipython3",
   "version": "3.8.8"
  }
 },
 "nbformat": 4,
 "nbformat_minor": 5
}
